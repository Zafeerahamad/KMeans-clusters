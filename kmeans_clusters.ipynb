{
 "cells": [
  {
   "cell_type": "code",
   "execution_count": 1,
   "metadata": {},
   "outputs": [
    {
     "name": "stderr",
     "output_type": "stream",
     "text": [
      "<frozen importlib._bootstrap>:219: RuntimeWarning: numpy.ufunc size changed, may indicate binary incompatibility. Expected 112 from C header, got 124 from PyObject\n"
     ]
    }
   ],
   "source": [
    "import pandas as pd\n",
    "import numpy as np\n",
    "import matplotlib.pyplot as plt\n",
    "from sklearn.cluster import KMeans"
   ]
  },
  {
   "cell_type": "code",
   "execution_count": 76,
   "metadata": {},
   "outputs": [
    {
     "data": {
      "text/html": [
       "<div>\n",
       "<style scoped>\n",
       "    .dataframe tbody tr th:only-of-type {\n",
       "        vertical-align: middle;\n",
       "    }\n",
       "\n",
       "    .dataframe tbody tr th {\n",
       "        vertical-align: top;\n",
       "    }\n",
       "\n",
       "    .dataframe thead th {\n",
       "        text-align: right;\n",
       "    }\n",
       "</style>\n",
       "<table border=\"1\" class=\"dataframe\">\n",
       "  <thead>\n",
       "    <tr style=\"text-align: right;\">\n",
       "      <th></th>\n",
       "      <th>name</th>\n",
       "      <th>age</th>\n",
       "      <th>income</th>\n",
       "    </tr>\n",
       "  </thead>\n",
       "  <tbody>\n",
       "    <tr>\n",
       "      <th>0</th>\n",
       "      <td>zafeer</td>\n",
       "      <td>39</td>\n",
       "      <td>140000</td>\n",
       "    </tr>\n",
       "    <tr>\n",
       "      <th>1</th>\n",
       "      <td>khan</td>\n",
       "      <td>43</td>\n",
       "      <td>159000</td>\n",
       "    </tr>\n",
       "    <tr>\n",
       "      <th>2</th>\n",
       "      <td>faiz</td>\n",
       "      <td>33</td>\n",
       "      <td>75000</td>\n",
       "    </tr>\n",
       "    <tr>\n",
       "      <th>3</th>\n",
       "      <td>nazeer</td>\n",
       "      <td>43</td>\n",
       "      <td>50000</td>\n",
       "    </tr>\n",
       "    <tr>\n",
       "      <th>4</th>\n",
       "      <td>ahamad</td>\n",
       "      <td>50</td>\n",
       "      <td>70000</td>\n",
       "    </tr>\n",
       "  </tbody>\n",
       "</table>\n",
       "</div>"
      ],
      "text/plain": [
       "     name  age  income\n",
       "0  zafeer   39  140000\n",
       "1    khan   43  159000\n",
       "2    faiz   33   75000\n",
       "3  nazeer   43   50000\n",
       "4  ahamad   50   70000"
      ]
     },
     "execution_count": 76,
     "metadata": {},
     "output_type": "execute_result"
    }
   ],
   "source": [
    "data=pd.read_csv(\"income.csv\")\n",
    "data.head()"
   ]
  },
  {
   "cell_type": "code",
   "execution_count": 77,
   "metadata": {},
   "outputs": [
    {
     "data": {
      "image/png": "[encoded data removed]",
      "text/plain": [
       "<Figure size 432x288 with 1 Axes>"
      ]
     },
     "metadata": {
      "needs_background": "light"
     },
     "output_type": "display_data"
    }
   ],
   "source": [
    "plt.scatter(data[\"age\"],data[\"income\"])\n",
    "plt.xlabel(\"age\")\n",
    "plt.ylabel(\"income\")\n",
    "plt.title(\"scatter plot between income and age\")\n",
    "plt.show()"
   ]
  },
  {
   "cell_type": "markdown",
   "metadata": {},
   "source": [
    "here we clearly see that three clusters exists now we can use n_cluster =3"
   ]
  },
  {
   "cell_type": "code",
   "execution_count": 78,
   "metadata": {},
   "outputs": [
    {
     "data": {
      "text/plain": [
       "KMeans(n_clusters=3)"
      ]
     },
     "execution_count": 78,
     "metadata": {},
     "output_type": "execute_result"
    }
   ],
   "source": [
    "km=KMeans(n_clusters=3)\n",
    "km.fit(data.drop(\"name\",axis=1))"
   ]
  },
  {
   "cell_type": "code",
   "execution_count": 79,
   "metadata": {},
   "outputs": [
    {
     "data": {
      "text/plain": [
       "array([2, 2, 0, 1, 1, 2, 1, 1, 1, 0, 2, 1, 0, 1, 2, 1, 1, 0, 1, 2, 1, 0,\n",
       "       1, 2])"
      ]
     },
     "execution_count": 79,
     "metadata": {},
     "output_type": "execute_result"
    }
   ],
   "source": [
    "y_predicted=km.predict(data[[\"age\",\"income\"]])\n",
    "y_predicted"
   ]
  },
  {
   "cell_type": "code",
   "execution_count": 80,
   "metadata": {},
   "outputs": [],
   "source": [
    "data.insert(3,\"cluster\",y_predicted)"
   ]
  },
  {
   "cell_type": "code",
   "execution_count": 81,
   "metadata": {},
   "outputs": [
    {
     "data": {
      "text/html": [
       "<div>\n",
       "<style scoped>\n",
       "    .dataframe tbody tr th:only-of-type {\n",
       "        vertical-align: middle;\n",
       "    }\n",
       "\n",
       "    .dataframe tbody tr th {\n",
       "        vertical-align: top;\n",
       "    }\n",
       "\n",
       "    .dataframe thead th {\n",
       "        text-align: right;\n",
       "    }\n",
       "</style>\n",
       "<table border=\"1\" class=\"dataframe\">\n",
       "  <thead>\n",
       "    <tr style=\"text-align: right;\">\n",
       "      <th></th>\n",
       "      <th>name</th>\n",
       "      <th>age</th>\n",
       "      <th>income</th>\n",
       "      <th>cluster</th>\n",
       "    </tr>\n",
       "  </thead>\n",
       "  <tbody>\n",
       "    <tr>\n",
       "      <th>0</th>\n",
       "      <td>zafeer</td>\n",
       "      <td>39</td>\n",
       "      <td>140000</td>\n",
       "      <td>2</td>\n",
       "    </tr>\n",
       "    <tr>\n",
       "      <th>1</th>\n",
       "      <td>khan</td>\n",
       "      <td>43</td>\n",
       "      <td>159000</td>\n",
       "      <td>2</td>\n",
       "    </tr>\n",
       "    <tr>\n",
       "      <th>2</th>\n",
       "      <td>faiz</td>\n",
       "      <td>33</td>\n",
       "      <td>75000</td>\n",
       "      <td>0</td>\n",
       "    </tr>\n",
       "    <tr>\n",
       "      <th>3</th>\n",
       "      <td>nazeer</td>\n",
       "      <td>43</td>\n",
       "      <td>50000</td>\n",
       "      <td>1</td>\n",
       "    </tr>\n",
       "    <tr>\n",
       "      <th>4</th>\n",
       "      <td>ahamad</td>\n",
       "      <td>50</td>\n",
       "      <td>70000</td>\n",
       "      <td>1</td>\n",
       "    </tr>\n",
       "    <tr>\n",
       "      <th>5</th>\n",
       "      <td>zak</td>\n",
       "      <td>78</td>\n",
       "      <td>145000</td>\n",
       "      <td>2</td>\n",
       "    </tr>\n",
       "    <tr>\n",
       "      <th>6</th>\n",
       "      <td>rob</td>\n",
       "      <td>39</td>\n",
       "      <td>55000</td>\n",
       "      <td>1</td>\n",
       "    </tr>\n",
       "    <tr>\n",
       "      <th>7</th>\n",
       "      <td>roby</td>\n",
       "      <td>43</td>\n",
       "      <td>65000</td>\n",
       "      <td>1</td>\n",
       "    </tr>\n",
       "    <tr>\n",
       "      <th>8</th>\n",
       "      <td>rob1</td>\n",
       "      <td>40</td>\n",
       "      <td>60000</td>\n",
       "      <td>1</td>\n",
       "    </tr>\n",
       "    <tr>\n",
       "      <th>9</th>\n",
       "      <td>rob2</td>\n",
       "      <td>57</td>\n",
       "      <td>80000</td>\n",
       "      <td>0</td>\n",
       "    </tr>\n",
       "    <tr>\n",
       "      <th>10</th>\n",
       "      <td>rob4</td>\n",
       "      <td>40</td>\n",
       "      <td>160000</td>\n",
       "      <td>2</td>\n",
       "    </tr>\n",
       "    <tr>\n",
       "      <th>11</th>\n",
       "      <td>rob3</td>\n",
       "      <td>49</td>\n",
       "      <td>60000</td>\n",
       "      <td>1</td>\n",
       "    </tr>\n",
       "    <tr>\n",
       "      <th>12</th>\n",
       "      <td>rob5</td>\n",
       "      <td>51</td>\n",
       "      <td>100000</td>\n",
       "      <td>0</td>\n",
       "    </tr>\n",
       "    <tr>\n",
       "      <th>13</th>\n",
       "      <td>rob6</td>\n",
       "      <td>40</td>\n",
       "      <td>60000</td>\n",
       "      <td>1</td>\n",
       "    </tr>\n",
       "    <tr>\n",
       "      <th>14</th>\n",
       "      <td>rob7</td>\n",
       "      <td>43</td>\n",
       "      <td>150000</td>\n",
       "      <td>2</td>\n",
       "    </tr>\n",
       "    <tr>\n",
       "      <th>15</th>\n",
       "      <td>rob8</td>\n",
       "      <td>40</td>\n",
       "      <td>60000</td>\n",
       "      <td>1</td>\n",
       "    </tr>\n",
       "    <tr>\n",
       "      <th>16</th>\n",
       "      <td>rob9</td>\n",
       "      <td>29</td>\n",
       "      <td>60000</td>\n",
       "      <td>1</td>\n",
       "    </tr>\n",
       "    <tr>\n",
       "      <th>17</th>\n",
       "      <td>rob12</td>\n",
       "      <td>53</td>\n",
       "      <td>89000</td>\n",
       "      <td>0</td>\n",
       "    </tr>\n",
       "    <tr>\n",
       "      <th>18</th>\n",
       "      <td>rob23</td>\n",
       "      <td>40</td>\n",
       "      <td>66000</td>\n",
       "      <td>1</td>\n",
       "    </tr>\n",
       "    <tr>\n",
       "      <th>19</th>\n",
       "      <td>rob34</td>\n",
       "      <td>77</td>\n",
       "      <td>130000</td>\n",
       "      <td>2</td>\n",
       "    </tr>\n",
       "    <tr>\n",
       "      <th>20</th>\n",
       "      <td>rob45</td>\n",
       "      <td>40</td>\n",
       "      <td>60000</td>\n",
       "      <td>1</td>\n",
       "    </tr>\n",
       "    <tr>\n",
       "      <th>21</th>\n",
       "      <td>rob56</td>\n",
       "      <td>45</td>\n",
       "      <td>80000</td>\n",
       "      <td>0</td>\n",
       "    </tr>\n",
       "    <tr>\n",
       "      <th>22</th>\n",
       "      <td>rob78</td>\n",
       "      <td>46</td>\n",
       "      <td>70000</td>\n",
       "      <td>1</td>\n",
       "    </tr>\n",
       "    <tr>\n",
       "      <th>23</th>\n",
       "      <td>rob67</td>\n",
       "      <td>70</td>\n",
       "      <td>153000</td>\n",
       "      <td>2</td>\n",
       "    </tr>\n",
       "  </tbody>\n",
       "</table>\n",
       "</div>"
      ],
      "text/plain": [
       "      name  age  income  cluster\n",
       "0   zafeer   39  140000        2\n",
       "1     khan   43  159000        2\n",
       "2     faiz   33   75000        0\n",
       "3   nazeer   43   50000        1\n",
       "4   ahamad   50   70000        1\n",
       "5      zak   78  145000        2\n",
       "6      rob   39   55000        1\n",
       "7     roby   43   65000        1\n",
       "8     rob1   40   60000        1\n",
       "9     rob2   57   80000        0\n",
       "10    rob4   40  160000        2\n",
       "11    rob3   49   60000        1\n",
       "12    rob5   51  100000        0\n",
       "13    rob6   40   60000        1\n",
       "14    rob7   43  150000        2\n",
       "15    rob8   40   60000        1\n",
       "16    rob9   29   60000        1\n",
       "17   rob12   53   89000        0\n",
       "18   rob23   40   66000        1\n",
       "19   rob34   77  130000        2\n",
       "20   rob45   40   60000        1\n",
       "21   rob56   45   80000        0\n",
       "22   rob78   46   70000        1\n",
       "23   rob67   70  153000        2"
      ]
     },
     "execution_count": 81,
     "metadata": {},
     "output_type": "execute_result"
    }
   ],
   "source": [
    "data  # here we see there are three clusters present cluster 0,cluster 1,cluster 2"
   ]
  },
  {
   "cell_type": "code",
   "execution_count": 82,
   "metadata": {},
   "outputs": [],
   "source": [
    "#now we can differenciate all clusters\n",
    "data_cluster0=data[data[\"cluster\"]==0]\n",
    "data_cluster1=data[data[\"cluster\"]==1]\n",
    "data_cluster2=data[data[\"cluster\"]==2]"
   ]
  },
  {
   "cell_type": "code",
   "execution_count": 83,
   "metadata": {},
   "outputs": [
    {
     "data": {
      "image/png": "[encoded data removed]",
      "text/plain": [
       "<Figure size 432x288 with 1 Axes>"
      ]
     },
     "metadata": {
      "needs_background": "light"
     },
     "output_type": "display_data"
    }
   ],
   "source": [
    "plt.scatter(data_cluster0[\"age\"],data_cluster0[\"income\"],color=\"red\",label=\"cluster0\")\n",
    "plt.scatter(data_cluster1[\"age\"],data_cluster1[\"income\"],color=\"green\",label=\"cluster1\")\n",
    "plt.scatter(data_cluster2[\"age\"],data_cluster2[\"income\"],color=\"blue\",label=\"cluster2\")\n",
    "plt.legend()\n",
    "plt.xlabel(\"age\")\n",
    "plt.ylabel(\"income\")\n",
    "plt.title(\"scatter plot between income and age\")\n",
    "plt.show()"
   ]
  },
  {
   "cell_type": "markdown",
   "metadata": {},
   "source": [
    "##### here we see cluster 0 are not grouped in best way here problems occurs because of because here we didnot use featere scaling\n",
    "which is very necessary because income is very big data and age lies between 30 to 80 which is not compatible.so we use here feature scaling."
   ]
  },
  {
   "cell_type": "code",
   "execution_count": 84,
   "metadata": {},
   "outputs": [
    {
     "data": {
      "text/html": [
       "<div>\n",
       "<style scoped>\n",
       "    .dataframe tbody tr th:only-of-type {\n",
       "        vertical-align: middle;\n",
       "    }\n",
       "\n",
       "    .dataframe tbody tr th {\n",
       "        vertical-align: top;\n",
       "    }\n",
       "\n",
       "    .dataframe thead th {\n",
       "        text-align: right;\n",
       "    }\n",
       "</style>\n",
       "<table border=\"1\" class=\"dataframe\">\n",
       "  <thead>\n",
       "    <tr style=\"text-align: right;\">\n",
       "      <th></th>\n",
       "      <th>name</th>\n",
       "      <th>age</th>\n",
       "      <th>income</th>\n",
       "    </tr>\n",
       "  </thead>\n",
       "  <tbody>\n",
       "    <tr>\n",
       "      <th>0</th>\n",
       "      <td>zafeer</td>\n",
       "      <td>39</td>\n",
       "      <td>140000</td>\n",
       "    </tr>\n",
       "    <tr>\n",
       "      <th>1</th>\n",
       "      <td>khan</td>\n",
       "      <td>43</td>\n",
       "      <td>159000</td>\n",
       "    </tr>\n",
       "    <tr>\n",
       "      <th>2</th>\n",
       "      <td>faiz</td>\n",
       "      <td>33</td>\n",
       "      <td>75000</td>\n",
       "    </tr>\n",
       "    <tr>\n",
       "      <th>3</th>\n",
       "      <td>nazeer</td>\n",
       "      <td>43</td>\n",
       "      <td>50000</td>\n",
       "    </tr>\n",
       "    <tr>\n",
       "      <th>4</th>\n",
       "      <td>ahamad</td>\n",
       "      <td>50</td>\n",
       "      <td>70000</td>\n",
       "    </tr>\n",
       "  </tbody>\n",
       "</table>\n",
       "</div>"
      ],
      "text/plain": [
       "     name  age  income\n",
       "0  zafeer   39  140000\n",
       "1    khan   43  159000\n",
       "2    faiz   33   75000\n",
       "3  nazeer   43   50000\n",
       "4  ahamad   50   70000"
      ]
     },
     "execution_count": 84,
     "metadata": {},
     "output_type": "execute_result"
    }
   ],
   "source": [
    "data=pd.read_csv(\"income.csv\")\n",
    "data.head()"
   ]
  },
  {
   "cell_type": "code",
   "execution_count": 85,
   "metadata": {
    "collapsed": true
   },
   "outputs": [
    {
     "data": {
      "text/html": [
       "<div>\n",
       "<style scoped>\n",
       "    .dataframe tbody tr th:only-of-type {\n",
       "        vertical-align: middle;\n",
       "    }\n",
       "\n",
       "    .dataframe tbody tr th {\n",
       "        vertical-align: top;\n",
       "    }\n",
       "\n",
       "    .dataframe thead th {\n",
       "        text-align: right;\n",
       "    }\n",
       "</style>\n",
       "<table border=\"1\" class=\"dataframe\">\n",
       "  <thead>\n",
       "    <tr style=\"text-align: right;\">\n",
       "      <th></th>\n",
       "      <th>name</th>\n",
       "      <th>age</th>\n",
       "      <th>income</th>\n",
       "    </tr>\n",
       "  </thead>\n",
       "  <tbody>\n",
       "    <tr>\n",
       "      <th>0</th>\n",
       "      <td>zafeer</td>\n",
       "      <td>0.204082</td>\n",
       "      <td>0.818182</td>\n",
       "    </tr>\n",
       "    <tr>\n",
       "      <th>1</th>\n",
       "      <td>khan</td>\n",
       "      <td>0.285714</td>\n",
       "      <td>0.990909</td>\n",
       "    </tr>\n",
       "    <tr>\n",
       "      <th>2</th>\n",
       "      <td>faiz</td>\n",
       "      <td>0.081633</td>\n",
       "      <td>0.227273</td>\n",
       "    </tr>\n",
       "    <tr>\n",
       "      <th>3</th>\n",
       "      <td>nazeer</td>\n",
       "      <td>0.285714</td>\n",
       "      <td>0.000000</td>\n",
       "    </tr>\n",
       "    <tr>\n",
       "      <th>4</th>\n",
       "      <td>ahamad</td>\n",
       "      <td>0.428571</td>\n",
       "      <td>0.181818</td>\n",
       "    </tr>\n",
       "    <tr>\n",
       "      <th>5</th>\n",
       "      <td>zak</td>\n",
       "      <td>1.000000</td>\n",
       "      <td>0.863636</td>\n",
       "    </tr>\n",
       "    <tr>\n",
       "      <th>6</th>\n",
       "      <td>rob</td>\n",
       "      <td>0.204082</td>\n",
       "      <td>0.045455</td>\n",
       "    </tr>\n",
       "    <tr>\n",
       "      <th>7</th>\n",
       "      <td>roby</td>\n",
       "      <td>0.285714</td>\n",
       "      <td>0.136364</td>\n",
       "    </tr>\n",
       "    <tr>\n",
       "      <th>8</th>\n",
       "      <td>rob1</td>\n",
       "      <td>0.224490</td>\n",
       "      <td>0.090909</td>\n",
       "    </tr>\n",
       "    <tr>\n",
       "      <th>9</th>\n",
       "      <td>rob2</td>\n",
       "      <td>0.571429</td>\n",
       "      <td>0.272727</td>\n",
       "    </tr>\n",
       "    <tr>\n",
       "      <th>10</th>\n",
       "      <td>rob4</td>\n",
       "      <td>0.224490</td>\n",
       "      <td>1.000000</td>\n",
       "    </tr>\n",
       "    <tr>\n",
       "      <th>11</th>\n",
       "      <td>rob3</td>\n",
       "      <td>0.408163</td>\n",
       "      <td>0.090909</td>\n",
       "    </tr>\n",
       "    <tr>\n",
       "      <th>12</th>\n",
       "      <td>rob5</td>\n",
       "      <td>0.448980</td>\n",
       "      <td>0.454545</td>\n",
       "    </tr>\n",
       "    <tr>\n",
       "      <th>13</th>\n",
       "      <td>rob6</td>\n",
       "      <td>0.224490</td>\n",
       "      <td>0.090909</td>\n",
       "    </tr>\n",
       "    <tr>\n",
       "      <th>14</th>\n",
       "      <td>rob7</td>\n",
       "      <td>0.285714</td>\n",
       "      <td>0.909091</td>\n",
       "    </tr>\n",
       "    <tr>\n",
       "      <th>15</th>\n",
       "      <td>rob8</td>\n",
       "      <td>0.224490</td>\n",
       "      <td>0.090909</td>\n",
       "    </tr>\n",
       "    <tr>\n",
       "      <th>16</th>\n",
       "      <td>rob9</td>\n",
       "      <td>0.000000</td>\n",
       "      <td>0.090909</td>\n",
       "    </tr>\n",
       "    <tr>\n",
       "      <th>17</th>\n",
       "      <td>rob12</td>\n",
       "      <td>0.489796</td>\n",
       "      <td>0.354545</td>\n",
       "    </tr>\n",
       "    <tr>\n",
       "      <th>18</th>\n",
       "      <td>rob23</td>\n",
       "      <td>0.224490</td>\n",
       "      <td>0.145455</td>\n",
       "    </tr>\n",
       "    <tr>\n",
       "      <th>19</th>\n",
       "      <td>rob34</td>\n",
       "      <td>0.979592</td>\n",
       "      <td>0.727273</td>\n",
       "    </tr>\n",
       "    <tr>\n",
       "      <th>20</th>\n",
       "      <td>rob45</td>\n",
       "      <td>0.224490</td>\n",
       "      <td>0.090909</td>\n",
       "    </tr>\n",
       "    <tr>\n",
       "      <th>21</th>\n",
       "      <td>rob56</td>\n",
       "      <td>0.326531</td>\n",
       "      <td>0.272727</td>\n",
       "    </tr>\n",
       "    <tr>\n",
       "      <th>22</th>\n",
       "      <td>rob78</td>\n",
       "      <td>0.346939</td>\n",
       "      <td>0.181818</td>\n",
       "    </tr>\n",
       "    <tr>\n",
       "      <th>23</th>\n",
       "      <td>rob67</td>\n",
       "      <td>0.836735</td>\n",
       "      <td>0.936364</td>\n",
       "    </tr>\n",
       "  </tbody>\n",
       "</table>\n",
       "</div>"
      ],
      "text/plain": [
       "      name       age    income\n",
       "0   zafeer  0.204082  0.818182\n",
       "1     khan  0.285714  0.990909\n",
       "2     faiz  0.081633  0.227273\n",
       "3   nazeer  0.285714  0.000000\n",
       "4   ahamad  0.428571  0.181818\n",
       "5      zak  1.000000  0.863636\n",
       "6      rob  0.204082  0.045455\n",
       "7     roby  0.285714  0.136364\n",
       "8     rob1  0.224490  0.090909\n",
       "9     rob2  0.571429  0.272727\n",
       "10    rob4  0.224490  1.000000\n",
       "11    rob3  0.408163  0.090909\n",
       "12    rob5  0.448980  0.454545\n",
       "13    rob6  0.224490  0.090909\n",
       "14    rob7  0.285714  0.909091\n",
       "15    rob8  0.224490  0.090909\n",
       "16    rob9  0.000000  0.090909\n",
       "17   rob12  0.489796  0.354545\n",
       "18   rob23  0.224490  0.145455\n",
       "19   rob34  0.979592  0.727273\n",
       "20   rob45  0.224490  0.090909\n",
       "21   rob56  0.326531  0.272727\n",
       "22   rob78  0.346939  0.181818\n",
       "23   rob67  0.836735  0.936364"
      ]
     },
     "execution_count": 85,
     "metadata": {},
     "output_type": "execute_result"
    }
   ],
   "source": [
    "from sklearn.preprocessing import MinMaxScaler\n",
    "scaler=MinMaxScaler()  # minmaxscaler will transform the attribute between [0,1]\n",
    "data[\"income\"]=scaler.fit_transform(data[[\"income\"]])\n",
    "data[\"age\"]=scaler.fit_transform(data[[\"age\"]])\n",
    "data"
   ]
  },
  {
   "cell_type": "code",
   "execution_count": 86,
   "metadata": {
    "scrolled": true
   },
   "outputs": [
    {
     "data": {
      "text/plain": [
       "array([1, 1, 0, 0, 0, 2, 0, 0, 0, 0, 1, 0, 0, 0, 1, 0, 0, 0, 0, 2, 0, 0,\n",
       "       0, 2])"
      ]
     },
     "execution_count": 86,
     "metadata": {},
     "output_type": "execute_result"
    }
   ],
   "source": [
    "km=KMeans(n_clusters=3)\n",
    "km.fit(data.drop(\"name\",axis=1))\n",
    "y_predicted=km.predict(data[[\"age\",\"income\"]])\n",
    "y_predicted"
   ]
  },
  {
   "cell_type": "code",
   "execution_count": 87,
   "metadata": {},
   "outputs": [],
   "source": [
    "data.insert(3,\"cluster\",y_predicted)"
   ]
  },
  {
   "cell_type": "code",
   "execution_count": 88,
   "metadata": {},
   "outputs": [],
   "source": [
    "data_cluster0=data[data[\"cluster\"]==0]\n",
    "data_cluster1=data[data[\"cluster\"]==1]\n",
    "data_cluster2=data[data[\"cluster\"]==2]"
   ]
  },
  {
   "cell_type": "code",
   "execution_count": 89,
   "metadata": {},
   "outputs": [
    {
     "data": {
      "image/png": "[encoded data removed]",
      "text/plain": [
       "<Figure size 432x288 with 1 Axes>"
      ]
     },
     "metadata": {
      "needs_background": "light"
     },
     "output_type": "display_data"
    }
   ],
   "source": [
    "plt.scatter(data_cluster0[\"age\"],data_cluster0[\"income\"],color=\"red\",label=\"cluster0\")\n",
    "plt.scatter(data_cluster1[\"age\"],data_cluster1[\"income\"],color=\"green\",label=\"cluster1\")\n",
    "plt.scatter(data_cluster2[\"age\"],data_cluster2[\"income\"],color=\"blue\",label=\"cluster2\")\n",
    "plt.legend()\n",
    "plt.xlabel(\"age\")\n",
    "plt.ylabel(\"income\")\n",
    "plt.title(\"scatter plot between income and age\")\n",
    "plt.show()"
   ]
  },
  {
   "cell_type": "markdown",
   "metadata": {},
   "source": [
    "now this is differenciable each one as a cluster\n",
    "#### to find centeroid  of each cluster we use a method        km.cluster_center_"
   ]
  },
  {
   "cell_type": "code",
   "execution_count": 91,
   "metadata": {},
   "outputs": [
    {
     "data": {
      "text/plain": [
       "array([[0.29411765, 0.1657754 ],\n",
       "       [0.25      , 0.92954545],\n",
       "       [0.93877551, 0.84242424]])"
      ]
     },
     "execution_count": 91,
     "metadata": {},
     "output_type": "execute_result"
    }
   ],
   "source": [
    "km.cluster_centers_    #it returns x,y coordinates of centroid for each cluster"
   ]
  },
  {
   "cell_type": "code",
   "execution_count": 92,
   "metadata": {},
   "outputs": [
    {
     "data": {
      "image/png": "[encoded data removed]",
      "text/plain": [
       "<Figure size 432x288 with 1 Axes>"
      ]
     },
     "metadata": {
      "needs_background": "light"
     },
     "output_type": "display_data"
    }
   ],
   "source": [
    "plt.scatter(data_cluster0[\"age\"],data_cluster0[\"income\"],color=\"red\",label=\"cluster0\")\n",
    "plt.scatter(data_cluster1[\"age\"],data_cluster1[\"income\"],color=\"green\",label=\"cluster1\")\n",
    "plt.scatter(data_cluster2[\"age\"],data_cluster2[\"income\"],color=\"blue\",label=\"cluster2\")\n",
    "plt.scatter(km.cluster_centers_[:,0],km.cluster_centers_[:,1],color=\"black\",label=\"Centeroid\")\n",
    "plt.legend()\n",
    "plt.xlabel(\"age\")\n",
    "plt.ylabel(\"income\")\n",
    "plt.title(\"scatter plot between income and age\")\n",
    "plt.show()"
   ]
  },
  {
   "cell_type": "markdown",
   "metadata": {},
   "source": [
    "### Elbow method:- it is use to find out the value of k ,for which k value it will give best model\n",
    "here we use sumsquareerror sse to find the value of k\n",
    "#### inertia_ :- it gives the sse"
   ]
  },
  {
   "cell_type": "code",
   "execution_count": 97,
   "metadata": {},
   "outputs": [
    {
     "data": {
      "text/plain": [
       "[4.381905265310712,\n",
       " 1.4528139955112225,\n",
       " 0.6265251799826017,\n",
       " 0.2997830361742557,\n",
       " 0.21783432695054755,\n",
       " 0.14763682315564114,\n",
       " 0.11878141626021305,\n",
       " 0.0994342749749588,\n",
       " 0.0809087008053348,\n",
       " 0.06827923512127065]"
      ]
     },
     "execution_count": 97,
     "metadata": {},
     "output_type": "execute_result"
    }
   ],
   "source": [
    "krange=range(1,11)\n",
    "sse=[]\n",
    "for i in krange:\n",
    "    k=KMeans(n_clusters=i)\n",
    "    k.fit(data[[\"age\",\"income\"]])\n",
    "    sse.append(k.inertia_)\n",
    "sse"
   ]
  },
  {
   "cell_type": "code",
   "execution_count": 111,
   "metadata": {},
   "outputs": [
    {
     "data": {
      "image/png": "[encoded data removed]",
      "text/plain": [
       "<Figure size 432x288 with 1 Axes>"
      ]
     },
     "metadata": {
      "needs_background": "light"
     },
     "output_type": "display_data"
    }
   ],
   "source": [
    "plt.plot(krange,sse,linestyle=\"dashed\")\n",
    "plt.scatter(krange,sse)\n",
    "plt.xlabel(\"k\")\n",
    "plt.ylabel(\"sse\")\n",
    "plt.title(\"pllot between sse and k\")\n",
    "plt.show()"
   ]
  },
  {
   "cell_type": "code",
   "execution_count": 108,
   "metadata": {},
   "outputs": [
    {
     "data": {
      "text/plain": [
       "array([1, 1, 3, 3, 0, 2, 3, 3, 3, 0, 1, 0, 0, 3, 1, 3, 3, 0, 3, 2, 3, 0,\n",
       "       0, 2])"
      ]
     },
     "execution_count": 108,
     "metadata": {},
     "output_type": "execute_result"
    }
   ],
   "source": [
    "##in the above plot we see at k= 4 the  is the value of elbow so if we take 4 cluster the the value accuracy will increases\n",
    "data=pd.read_csv(\"income.csv\")\n",
    "scaler=MinMaxScaler()  # minmaxscaler will transform the attribute between [0,1]\n",
    "data[\"income\"]=scaler.fit_transform(data[[\"income\"]])\n",
    "data[\"age\"]=scaler.fit_transform(data[[\"age\"]])\n",
    "km=KMeans(n_clusters=4)\n",
    "km.fit(data.drop(\"name\",axis=1))\n",
    "y_predicted=km.predict(data[[\"age\",\"income\"]])\n",
    "y_predicted"
   ]
  },
  {
   "cell_type": "code",
   "execution_count": 109,
   "metadata": {},
   "outputs": [],
   "source": [
    "data.insert(3,\"cluster\",y_predicted)\n",
    "data_cluster0=data[data[\"cluster\"]==0]\n",
    "data_cluster1=data[data[\"cluster\"]==1]\n",
    "data_cluster2=data[data[\"cluster\"]==2]\n",
    "data_cluster3=data[data[\"cluster\"]==3]"
   ]
  },
  {
   "cell_type": "code",
   "execution_count": 110,
   "metadata": {},
   "outputs": [
    {
     "data": {
      "image/png": "[encoded data removed]",
      "text/plain": [
       "<Figure size 432x288 with 1 Axes>"
      ]
     },
     "metadata": {
      "needs_background": "light"
     },
     "output_type": "display_data"
    }
   ],
   "source": [
    "plt.scatter(data_cluster0[\"age\"],data_cluster0[\"income\"],color=\"red\",label=\"cluster0\")\n",
    "plt.scatter(data_cluster1[\"age\"],data_cluster1[\"income\"],color=\"green\",label=\"cluster1\")\n",
    "plt.scatter(data_cluster2[\"age\"],data_cluster2[\"income\"],color=\"blue\",label=\"cluster2\")\n",
    "plt.scatter(data_cluster3[\"age\"],data_cluster3[\"income\"],color=\"purple\",label=\"cluster3\")\n",
    "plt.scatter(km.cluster_centers_[:,0],km.cluster_centers_[:,1],color=\"black\",label=\"Centeroid\",marker=\"*\")\n",
    "plt.legend()\n",
    "plt.xlabel(\"age\")\n",
    "plt.ylabel(\"income\")\n",
    "plt.title(\"scatter plot between income and age\")\n",
    "plt.show()"
   ]
  },
  {
   "cell_type": "code",
   "execution_count": null,
   "metadata": {},
   "outputs": [],
   "source": []
  },
  {
   "cell_type": "code",
   "execution_count": null,
   "metadata": {},
   "outputs": [],
   "source": []
  }
 ],
 "metadata": {
  "kernelspec": {
   "display_name": "Python 3",
   "language": "python",
   "name": "python3"
  },
  "language_info": {
   "codemirror_mode": {
    "name": "ipython",
    "version": 3
   },
   "file_extension": ".py",
   "mimetype": "text/x-python",
   "name": "python",
   "nbconvert_exporter": "python",
   "pygments_lexer": "ipython3",
   "version": "3.8.3"
  }
 },
 "nbformat": 4,
 "nbformat_minor": 4
}
